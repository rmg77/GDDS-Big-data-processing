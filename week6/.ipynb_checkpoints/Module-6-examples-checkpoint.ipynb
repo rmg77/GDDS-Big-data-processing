{
 "cells": [
  {
   "cell_type": "code",
   "execution_count": null,
   "metadata": {},
   "outputs": [],
   "source": [
    "    import org.apache.spark.ml.classification.LogisticRegression\n",
    "    import org.apache.spark.ml.linalg.{Vector, Vectors}\n",
    "    import org.apache.spark.ml.param.ParamMap\n",
    "    import org.apache.spark.sql.Row"
   ]
  }
 ],
 "metadata": {
  "kernelspec": {
   "display_name": "Apache Toree - Scala",
   "language": "scala",
   "name": "apache_toree_scala"
  }
 },
 "nbformat": 4,
 "nbformat_minor": 2
}
